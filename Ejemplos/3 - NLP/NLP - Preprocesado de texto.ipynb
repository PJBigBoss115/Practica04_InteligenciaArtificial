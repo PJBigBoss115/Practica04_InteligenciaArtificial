{
 "cells": [
  {
   "cell_type": "markdown",
   "metadata": {},
   "source": [
    "<div style=\"font-size: 200%; font-weight: bold; color: maroon; line-height: 32px\">3 - NLP<br/>Preprocesado de texto\n",
    "</div>\n",
    "<!-- ThreePoints 2020 - v.1.0 -->"
   ]
  },
  {
   "cell_type": "markdown",
   "metadata": {},
   "source": [
    "TODO"
   ]
  },
  {
   "cell_type": "markdown",
   "metadata": {},
   "source": [
    "# Tokenización\n",
    "\n",
    "Podemos segmentar los documentos en unidades de información más pequeños. Un libro puede dividirse, por ejemplo, en capítulos, éstos a su vez en párrafos, los párrafos en frases, las frases en palabras y las palabras en caracteres.\n",
    "\n",
    "Usaremos como ejemplo [la sinópsis de El Padrino de filmaffinity](https://www.filmaffinity.com/es/film809297.html)."
   ]
  },
  {
   "cell_type": "code",
   "execution_count": 6,
   "metadata": {},
   "outputs": [],
   "source": [
    "text = \"América, años 40. Don Vito Corleone (Marlon Brando) es el respetado y temido jefe de una de las cinco familias de la mafia de Nueva York. Tiene cuatro hijos: Connie (Talia Shire), el impulsivo Sonny (James Caan), el pusilánime Fredo (John Cazale) y Michael (Al Pacino), que no quiere saber nada de los negocios de su padre. Cuando Corleone, en contra de los consejos de 'Il consigliere' Tom Hagen (Robert Duvall), se niega a participar en el negocio de las drogas, el jefe de otra banda ordena su asesinato. Empieza entonces una violenta y cruenta guerra entre las familias mafiosas. (FILMAFFINITY)\""
   ]
  },
  {
   "cell_type": "markdown",
   "metadata": {},
   "source": [
    "Podemos recurrir a la [clase string de Python ](https://docs.python.org/2/library/string.html) que contiene multitud de métodos para el procesado de texto."
   ]
  },
  {
   "cell_type": "markdown",
   "metadata": {},
   "source": [
    "## Clase String"
   ]
  },
  {
   "cell_type": "markdown",
   "metadata": {},
   "source": [
    "### Tokenización en frases\n",
    "\n",
    "Seleccionamos como delimitador un punto (\".\")."
   ]
  },
  {
   "cell_type": "code",
   "execution_count": 7,
   "metadata": {},
   "outputs": [
    {
     "name": "stdout",
     "output_type": "stream",
     "text": [
      "Frase 0    América, años 40\n",
      "Frase 1     Don Vito Corleone (Marlon Brando) es el respetado y temido jefe de una de las cinco familias de la mafia de Nueva York\n",
      "Frase 2     Tiene cuatro hijos: Connie (Talia Shire), el impulsivo Sonny (James Caan), el pusilánime Fredo (John Cazale) y Michael (Al Pacino), que no quiere saber nada de los negocios de su padre\n",
      "Frase 3     Cuando Corleone, en contra de los consejos de 'Il consigliere' Tom Hagen (Robert Duvall), se niega a participar en el negocio de las drogas, el jefe de otra banda ordena su asesinato\n",
      "Frase 4     Empieza entonces una violenta y cruenta guerra entre las familias mafiosas\n",
      "Frase 5     (FILMAFFINITY)\n"
     ]
    }
   ],
   "source": [
    "sentences = text.split('.')\n",
    "\n",
    "for idx, word in enumerate(sentences):\n",
    "    print('Frase {0:5}{1:5}'.format(str(idx), word))\n",
    "    if idx==5:  # mostramos solo las 5 primeras frases\n",
    "        break"
   ]
  },
  {
   "cell_type": "markdown",
   "metadata": {},
   "source": [
    "### Tokenización en palabras\n",
    "\n",
    "Seleccionamos como delimitador un espacio (\" &nbsp;\")."
   ]
  },
  {
   "cell_type": "markdown",
   "metadata": {},
   "source": [
    "## Usando NLTK\n",
    "\n",
    "También podemos emplear alguna librería para este propósito.\n",
    "\n",
    "En este caso usaremos algunas utilidades que nos brinda [NLTK](https://www.nltk.org/) para tokenizar textos:\n",
    "- word_tokenize : devuelve una copia \"tokenizada\" del texto usando el tokenizador recomendado en NLTK\n",
    "- sent_tokenize : similar al _word tokenizer_, pero a nivel de frase\n",
    "- regexp_tokenize: la tokenización se realiza basada en expresiones regulares (regex)\n",
    "- TweetTokenizer: útil cuando se trabaja con tweets. Permite separar hashtags, menciones o menciones"
   ]
  },
  {
   "cell_type": "code",
   "execution_count": 8,
   "metadata": {},
   "outputs": [],
   "source": [
    "from nltk.tokenize import sent_tokenize, word_tokenize"
   ]
  },
  {
   "cell_type": "code",
   "execution_count": 9,
   "metadata": {},
   "outputs": [
    {
     "name": "stdout",
     "output_type": "stream",
     "text": [
      "['América, años 40.', 'Don Vito Corleone (Marlon Brando) es el respetado y temido jefe de una de las cinco familias de la mafia de Nueva York.', 'Tiene cuatro hijos: Connie (Talia Shire), el impulsivo Sonny (James Caan), el pusilánime Fredo (John Cazale) y Michael (Al Pacino), que no quiere saber nada de los negocios de su padre.', \"Cuando Corleone, en contra de los consejos de 'Il consigliere' Tom Hagen (Robert Duvall), se niega a participar en el negocio de las drogas, el jefe de otra banda ordena su asesinato.\", 'Empieza entonces una violenta y cruenta guerra entre las familias mafiosas.', '(FILMAFFINITY)']\n"
     ]
    }
   ],
   "source": [
    "print(sent_tokenize(text))"
   ]
  },
  {
   "cell_type": "code",
   "execution_count": 10,
   "metadata": {},
   "outputs": [
    {
     "name": "stdout",
     "output_type": "stream",
     "text": [
      "['América', ',', 'años', '40', '.', 'Don', 'Vito', 'Corleone', '(', 'Marlon', 'Brando', ')', 'es', 'el', 'respetado', 'y', 'temido', 'jefe', 'de', 'una', 'de', 'las', 'cinco', 'familias', 'de', 'la', 'mafia', 'de', 'Nueva', 'York', '.', 'Tiene', 'cuatro', 'hijos', ':', 'Connie', '(', 'Talia', 'Shire', ')', ',', 'el', 'impulsivo', 'Sonny', '(', 'James', 'Caan', ')', ',', 'el', 'pusilánime', 'Fredo', '(', 'John', 'Cazale', ')', 'y', 'Michael', '(', 'Al', 'Pacino', ')', ',', 'que', 'no', 'quiere', 'saber', 'nada', 'de', 'los', 'negocios', 'de', 'su', 'padre', '.', 'Cuando', 'Corleone', ',', 'en', 'contra', 'de', 'los', 'consejos', 'de', \"'Il\", 'consigliere', \"'\", 'Tom', 'Hagen', '(', 'Robert', 'Duvall', ')', ',', 'se', 'niega', 'a', 'participar', 'en', 'el', 'negocio', 'de', 'las', 'drogas', ',', 'el', 'jefe', 'de', 'otra', 'banda', 'ordena', 'su', 'asesinato', '.', 'Empieza', 'entonces', 'una', 'violenta', 'y', 'cruenta', 'guerra', 'entre', 'las', 'familias', 'mafiosas', '.', '(', 'FILMAFFINITY', ')']\n"
     ]
    }
   ],
   "source": [
    "print(word_tokenize(text))"
   ]
  },
  {
   "cell_type": "markdown",
   "metadata": {},
   "source": [
    "## Usando spaCy\n",
    "\n",
    "De manera análoga, podemos usar spaCy para tokenizar nuestros documentos."
   ]
  },
  {
   "cell_type": "code",
   "execution_count": 11,
   "metadata": {},
   "outputs": [],
   "source": [
    "import os\n",
    "import spacy\n",
    "\n",
    "basedir = os.path.dirname(spacy.__path__[0])\n",
    "if not os.path.isdir(os.path.join(basedir, 'es_core_news_sm')):\n",
    "    from spacy.cli import download\n",
    "    download('es_core_news_sm')    "
   ]
  },
  {
   "cell_type": "code",
   "execution_count": 12,
   "metadata": {},
   "outputs": [],
   "source": [
    "nlp = spacy.load('es_core_news_sm')"
   ]
  },
  {
   "cell_type": "code",
   "execution_count": 13,
   "metadata": {},
   "outputs": [],
   "source": [
    "# Si la celda anterior falla, descomentar y ejecutar esta celda\n",
    "# import es_core_news_sm\n",
    "# nlp = es_core_news_sm.load()"
   ]
  },
  {
   "cell_type": "code",
   "execution_count": 15,
   "metadata": {},
   "outputs": [
    {
     "name": "stdout",
     "output_type": "stream",
     "text": [
      "América\n",
      ",\n",
      "años\n",
      "40\n",
      ".\n",
      "Don\n"
     ]
    }
   ],
   "source": [
    "doc = nlp(text)\n",
    "for idx, token in enumerate(doc):\n",
    "    print(token.text)\n",
    "    if idx==5:\n",
    "        break"
   ]
  },
  {
   "cell_type": "markdown",
   "metadata": {},
   "source": [
    "# Homogeneización\n",
    "\n",
    "Con el objetivo de que \n",
    "\n",
    "De nuevo, la clase [string](https://docs.python.org/2/library/string.html) de Python nos permite normalizar el texto de multidud de maneras. Algunos ejemplos:\n",
    "\n",
    "- **s.find(t)** índice de la primera instancia del string t en el string s (devuelve -1 si no lo encuentra)\n",
    "- **s.rfind(t)** índice de la última instancia del string t en el string s (devuelve -1 si no lo encuentra)\n",
    "- **s.join(text)** combina las palabras de un texto en un string donde s es la unión entre substrings. Puede aplicarse en listas de strings\n",
    "- **s.rsplit(t)** separa un string s siempre que encuentre t. Por defecto t es un espacio en blanco (visto en el primer ejemplo sobre tokenización)\n",
    "- **s.lower()** convierte a minúsculas el string s\n",
    "- **s.upper()** convierte a mayúsculas el string s\n",
    "- **s.title()** convierte el primer carácter del string s en mayúsculas y el resto a minúsculas\n",
    "- **s.strip()** elimina espacios en blanco al inicio y al final del string s\n",
    "- **s.replace(t, u)** reemplaza el string t por el string u en un string dado s\n",
    "- **t in s** comprueba si el string t está contenido en el string s"
   ]
  },
  {
   "cell_type": "code",
   "execution_count": 34,
   "metadata": {},
   "outputs": [
    {
     "data": {
      "text/plain": [
       "'América, años 40. Don Vito Corleone (Marlon Brando) es el respetado y temido jefe de una de las '"
      ]
     },
     "execution_count": 34,
     "metadata": {},
     "output_type": "execute_result"
    }
   ],
   "source": [
    "text_test = text[:96]\n",
    "text_test"
   ]
  },
  {
   "cell_type": "code",
   "execution_count": 35,
   "metadata": {},
   "outputs": [
    {
     "data": {
      "text/plain": [
       "27"
      ]
     },
     "execution_count": 35,
     "metadata": {},
     "output_type": "execute_result"
    }
   ],
   "source": [
    "text_test.find('Corleone')"
   ]
  },
  {
   "cell_type": "code",
   "execution_count": 36,
   "metadata": {},
   "outputs": [
    {
     "data": {
      "text/plain": [
       "82"
      ]
     },
     "execution_count": 36,
     "metadata": {},
     "output_type": "execute_result"
    }
   ],
   "source": [
    "text_test.find('de')"
   ]
  },
  {
   "cell_type": "code",
   "execution_count": 37,
   "metadata": {},
   "outputs": [
    {
     "data": {
      "text/plain": [
       "'A-m-é-r-i-c-a-,- -a-ñ-o-s- -4-0-.- -D-o-n- -V-i-t-o- -C-o-r-l-e-o-n-e- -(-M-a-r-l-o-n- -B-r-a-n-d-o-)- -e-s- -e-l- -r-e-s-p-e-t-a-d-o- -y- -t-e-m-i-d-o- -j-e-f-e- -d-e- -u-n-a- -d-e- -l-a-s- '"
      ]
     },
     "execution_count": 37,
     "metadata": {},
     "output_type": "execute_result"
    }
   ],
   "source": [
    "'-'.join(text_test)"
   ]
  },
  {
   "cell_type": "code",
   "execution_count": 38,
   "metadata": {},
   "outputs": [
    {
     "data": {
      "text/plain": [
       "'América,-años-40.-Don-Vito-Corleone-(Marlon-Brando)-es-el-respetado-y-temido-jefe-de-una-de-las'"
      ]
     },
     "execution_count": 38,
     "metadata": {},
     "output_type": "execute_result"
    }
   ],
   "source": [
    "'-'.join(text_test.split())"
   ]
  },
  {
   "cell_type": "code",
   "execution_count": 39,
   "metadata": {},
   "outputs": [
    {
     "data": {
      "text/plain": [
       "'américa, años 40. don vito corleone (marlon brando) es el respetado y temido jefe de una de las '"
      ]
     },
     "execution_count": 39,
     "metadata": {},
     "output_type": "execute_result"
    }
   ],
   "source": [
    "text_test.lower()"
   ]
  },
  {
   "cell_type": "code",
   "execution_count": 40,
   "metadata": {},
   "outputs": [
    {
     "data": {
      "text/plain": [
       "'AMÉRICA, AÑOS 40. DON VITO CORLEONE (MARLON BRANDO) ES EL RESPETADO Y TEMIDO JEFE DE UNA DE LAS '"
      ]
     },
     "execution_count": 40,
     "metadata": {},
     "output_type": "execute_result"
    }
   ],
   "source": [
    "text_test.upper()"
   ]
  },
  {
   "cell_type": "code",
   "execution_count": 41,
   "metadata": {},
   "outputs": [
    {
     "data": {
      "text/plain": [
       "'América, Años 40. Don Vito Corleone (Marlon Brando) Es El Respetado Y Temido Jefe De Una De Las '"
      ]
     },
     "execution_count": 41,
     "metadata": {},
     "output_type": "execute_result"
    }
   ],
   "source": [
    "text_test.title()"
   ]
  },
  {
   "cell_type": "code",
   "execution_count": 43,
   "metadata": {},
   "outputs": [
    {
     "data": {
      "text/plain": [
       "'América, años 40. Don Vito Corleone (Marlon Brando) es el respetado y temido jefe de una de las'"
      ]
     },
     "execution_count": 43,
     "metadata": {},
     "output_type": "execute_result"
    }
   ],
   "source": [
    "text_test.strip()"
   ]
  },
  {
   "cell_type": "code",
   "execution_count": 42,
   "metadata": {},
   "outputs": [
    {
     "data": {
      "text/plain": [
       "'América, años 40. Don Vito Corleone (Marlon Brando) es el respetado y temido jefe XX una XX las '"
      ]
     },
     "execution_count": 42,
     "metadata": {},
     "output_type": "execute_result"
    }
   ],
   "source": [
    "text_test.replace('de', 'XX')"
   ]
  },
  {
   "cell_type": "code",
   "execution_count": 45,
   "metadata": {},
   "outputs": [
    {
     "name": "stdout",
     "output_type": "stream",
     "text": [
      "False\n",
      "True\n"
     ]
    }
   ],
   "source": [
    "print('America' in text_test)\n",
    "print('América' in text_test)"
   ]
  },
  {
   "cell_type": "markdown",
   "metadata": {},
   "source": [
    "Podemos también eliminar signos de puntuación:"
   ]
  },
  {
   "cell_type": "code",
   "execution_count": 57,
   "metadata": {},
   "outputs": [
    {
     "data": {
      "text/plain": [
       "'América años 40 Don Vito Corleone Marlon Brando es el respetado y temido jefe de una de las'"
      ]
     },
     "execution_count": 57,
     "metadata": {},
     "output_type": "execute_result"
    }
   ],
   "source": [
    "import string\n",
    "\n",
    "table = str.maketrans('', '', string.punctuation)\n",
    "' '.join([word.translate(table) for word in text_test.split()])"
   ]
  },
  {
   "cell_type": "markdown",
   "metadata": {},
   "source": [
    "Y acentos:"
   ]
  },
  {
   "cell_type": "code",
   "execution_count": 59,
   "metadata": {},
   "outputs": [
    {
     "data": {
      "text/plain": [
       "'America, anos 40. Don Vito Corleone (Marlon Brando) es el respetado y temido jefe de una de las '"
      ]
     },
     "execution_count": 59,
     "metadata": {},
     "output_type": "execute_result"
    }
   ],
   "source": [
    "import unicodedata\n",
    "\n",
    "unicodedata.normalize('NFKD', text_test).encode('ascii', 'ignore').decode('utf-8', 'ignore')"
   ]
  },
  {
   "cell_type": "markdown",
   "metadata": {},
   "source": [
    "Lo habitual es concatenar varias de estas funciones en el momento de normalizar textos:"
   ]
  },
  {
   "cell_type": "code",
   "execution_count": 69,
   "metadata": {
    "scrolled": true
   },
   "outputs": [
    {
     "name": "stdout",
     "output_type": "stream",
     "text": [
      "Texto original:\n",
      "América, años 40. Don Vito Corleone (Marlon Brando) es el respetado y temido jefe de una de las \n",
      "\n",
      "Texto normalizado:\n",
      "america anos 40 don vito corleone marlon brando es el respetado y temido jefe de una de las\n"
     ]
    }
   ],
   "source": [
    "table = str.maketrans('', '', string.punctuation)\n",
    "\n",
    "# Convertimos a minúsculas\n",
    "text_aux = text_test.strip().lower()\n",
    "\n",
    "# Eliminamos acentos\n",
    "text_aux = unicodedata.normalize('NFKD', text_aux).encode('ascii', 'ignore').decode('utf-8', 'ignore')\n",
    "\n",
    "# Eliminamos signos de puntuación\n",
    "text_aux = ' '.join([word.translate(table) for word in text_aux.split()])\n",
    "\n",
    "print('Texto original:\\n{}'.format(text_test))\n",
    "print('\\nTexto normalizado:\\n{}'.format(text_aux))"
   ]
  },
  {
   "cell_type": "markdown",
   "metadata": {},
   "source": [
    "# Stopwords\n",
    "\n",
    "Palabras con -a priori- ningún significado o que aportan muy poca información. Suelen ser palabras muy comunes como, por ejemplo, preposiciones.\n",
    "\n",
    "En NLP se suele trabajar con vocabularios enormes (en Don Quijote de la Mancha aparecen en torno a 23.000 palabras distintas) por lo que interesa filtras aquellas que menos información aporten. El que aporten o no información dependerá del caso de uso.\n",
    "\n",
    "Existen multitud de listas de stopwords para diversos idiomas en Internet. Lo habitual es usar alguna de estas listas con conocimiento del dominio concreto de aplicación en el que nos encontremos, eliminando o inluyendo términos a dicha lista.\n",
    "\n",
    "Por conveniencia, usaremos la lista de stopwords en castellano que incluye NLTK."
   ]
  },
  {
   "cell_type": "code",
   "execution_count": 62,
   "metadata": {},
   "outputs": [],
   "source": [
    "try:\n",
    "    from nltk.corpus import stopwords\n",
    "    stop_words = set(stopwords.words('spanish'))\n",
    "except:\n",
    "    import nltk\n",
    "    nltk.download('stopwords')\n",
    "    from nltk.corpus import stopwords\n",
    "    stop_words = set(stopwords.words('spanish'))"
   ]
  },
  {
   "cell_type": "code",
   "execution_count": 63,
   "metadata": {},
   "outputs": [
    {
     "data": {
      "text/plain": [
       "{'a',\n",
       " 'al',\n",
       " 'algo',\n",
       " 'algunas',\n",
       " 'algunos',\n",
       " 'ante',\n",
       " 'antes',\n",
       " 'como',\n",
       " 'con',\n",
       " 'contra',\n",
       " 'cual',\n",
       " 'cuando',\n",
       " 'de',\n",
       " 'del',\n",
       " 'desde',\n",
       " 'donde',\n",
       " 'durante',\n",
       " 'e',\n",
       " 'el',\n",
       " 'ella',\n",
       " 'ellas',\n",
       " 'ellos',\n",
       " 'en',\n",
       " 'entre',\n",
       " 'era',\n",
       " 'erais',\n",
       " 'eran',\n",
       " 'eras',\n",
       " 'eres',\n",
       " 'es',\n",
       " 'esa',\n",
       " 'esas',\n",
       " 'ese',\n",
       " 'eso',\n",
       " 'esos',\n",
       " 'esta',\n",
       " 'estaba',\n",
       " 'estabais',\n",
       " 'estaban',\n",
       " 'estabas',\n",
       " 'estad',\n",
       " 'estada',\n",
       " 'estadas',\n",
       " 'estado',\n",
       " 'estados',\n",
       " 'estamos',\n",
       " 'estando',\n",
       " 'estar',\n",
       " 'estaremos',\n",
       " 'estará',\n",
       " 'estarán',\n",
       " 'estarás',\n",
       " 'estaré',\n",
       " 'estaréis',\n",
       " 'estaría',\n",
       " 'estaríais',\n",
       " 'estaríamos',\n",
       " 'estarían',\n",
       " 'estarías',\n",
       " 'estas',\n",
       " 'este',\n",
       " 'estemos',\n",
       " 'esto',\n",
       " 'estos',\n",
       " 'estoy',\n",
       " 'estuve',\n",
       " 'estuviera',\n",
       " 'estuvierais',\n",
       " 'estuvieran',\n",
       " 'estuvieras',\n",
       " 'estuvieron',\n",
       " 'estuviese',\n",
       " 'estuvieseis',\n",
       " 'estuviesen',\n",
       " 'estuvieses',\n",
       " 'estuvimos',\n",
       " 'estuviste',\n",
       " 'estuvisteis',\n",
       " 'estuviéramos',\n",
       " 'estuviésemos',\n",
       " 'estuvo',\n",
       " 'está',\n",
       " 'estábamos',\n",
       " 'estáis',\n",
       " 'están',\n",
       " 'estás',\n",
       " 'esté',\n",
       " 'estéis',\n",
       " 'estén',\n",
       " 'estés',\n",
       " 'fue',\n",
       " 'fuera',\n",
       " 'fuerais',\n",
       " 'fueran',\n",
       " 'fueras',\n",
       " 'fueron',\n",
       " 'fuese',\n",
       " 'fueseis',\n",
       " 'fuesen',\n",
       " 'fueses',\n",
       " 'fui',\n",
       " 'fuimos',\n",
       " 'fuiste',\n",
       " 'fuisteis',\n",
       " 'fuéramos',\n",
       " 'fuésemos',\n",
       " 'ha',\n",
       " 'habida',\n",
       " 'habidas',\n",
       " 'habido',\n",
       " 'habidos',\n",
       " 'habiendo',\n",
       " 'habremos',\n",
       " 'habrá',\n",
       " 'habrán',\n",
       " 'habrás',\n",
       " 'habré',\n",
       " 'habréis',\n",
       " 'habría',\n",
       " 'habríais',\n",
       " 'habríamos',\n",
       " 'habrían',\n",
       " 'habrías',\n",
       " 'habéis',\n",
       " 'había',\n",
       " 'habíais',\n",
       " 'habíamos',\n",
       " 'habían',\n",
       " 'habías',\n",
       " 'han',\n",
       " 'has',\n",
       " 'hasta',\n",
       " 'hay',\n",
       " 'haya',\n",
       " 'hayamos',\n",
       " 'hayan',\n",
       " 'hayas',\n",
       " 'hayáis',\n",
       " 'he',\n",
       " 'hemos',\n",
       " 'hube',\n",
       " 'hubiera',\n",
       " 'hubierais',\n",
       " 'hubieran',\n",
       " 'hubieras',\n",
       " 'hubieron',\n",
       " 'hubiese',\n",
       " 'hubieseis',\n",
       " 'hubiesen',\n",
       " 'hubieses',\n",
       " 'hubimos',\n",
       " 'hubiste',\n",
       " 'hubisteis',\n",
       " 'hubiéramos',\n",
       " 'hubiésemos',\n",
       " 'hubo',\n",
       " 'la',\n",
       " 'las',\n",
       " 'le',\n",
       " 'les',\n",
       " 'lo',\n",
       " 'los',\n",
       " 'me',\n",
       " 'mi',\n",
       " 'mis',\n",
       " 'mucho',\n",
       " 'muchos',\n",
       " 'muy',\n",
       " 'más',\n",
       " 'mí',\n",
       " 'mía',\n",
       " 'mías',\n",
       " 'mío',\n",
       " 'míos',\n",
       " 'nada',\n",
       " 'ni',\n",
       " 'no',\n",
       " 'nos',\n",
       " 'nosotras',\n",
       " 'nosotros',\n",
       " 'nuestra',\n",
       " 'nuestras',\n",
       " 'nuestro',\n",
       " 'nuestros',\n",
       " 'o',\n",
       " 'os',\n",
       " 'otra',\n",
       " 'otras',\n",
       " 'otro',\n",
       " 'otros',\n",
       " 'para',\n",
       " 'pero',\n",
       " 'poco',\n",
       " 'por',\n",
       " 'porque',\n",
       " 'que',\n",
       " 'quien',\n",
       " 'quienes',\n",
       " 'qué',\n",
       " 'se',\n",
       " 'sea',\n",
       " 'seamos',\n",
       " 'sean',\n",
       " 'seas',\n",
       " 'sentid',\n",
       " 'sentida',\n",
       " 'sentidas',\n",
       " 'sentido',\n",
       " 'sentidos',\n",
       " 'seremos',\n",
       " 'será',\n",
       " 'serán',\n",
       " 'serás',\n",
       " 'seré',\n",
       " 'seréis',\n",
       " 'sería',\n",
       " 'seríais',\n",
       " 'seríamos',\n",
       " 'serían',\n",
       " 'serías',\n",
       " 'seáis',\n",
       " 'siente',\n",
       " 'sin',\n",
       " 'sintiendo',\n",
       " 'sobre',\n",
       " 'sois',\n",
       " 'somos',\n",
       " 'son',\n",
       " 'soy',\n",
       " 'su',\n",
       " 'sus',\n",
       " 'suya',\n",
       " 'suyas',\n",
       " 'suyo',\n",
       " 'suyos',\n",
       " 'sí',\n",
       " 'también',\n",
       " 'tanto',\n",
       " 'te',\n",
       " 'tendremos',\n",
       " 'tendrá',\n",
       " 'tendrán',\n",
       " 'tendrás',\n",
       " 'tendré',\n",
       " 'tendréis',\n",
       " 'tendría',\n",
       " 'tendríais',\n",
       " 'tendríamos',\n",
       " 'tendrían',\n",
       " 'tendrías',\n",
       " 'tened',\n",
       " 'tenemos',\n",
       " 'tenga',\n",
       " 'tengamos',\n",
       " 'tengan',\n",
       " 'tengas',\n",
       " 'tengo',\n",
       " 'tengáis',\n",
       " 'tenida',\n",
       " 'tenidas',\n",
       " 'tenido',\n",
       " 'tenidos',\n",
       " 'teniendo',\n",
       " 'tenéis',\n",
       " 'tenía',\n",
       " 'teníais',\n",
       " 'teníamos',\n",
       " 'tenían',\n",
       " 'tenías',\n",
       " 'ti',\n",
       " 'tiene',\n",
       " 'tienen',\n",
       " 'tienes',\n",
       " 'todo',\n",
       " 'todos',\n",
       " 'tu',\n",
       " 'tus',\n",
       " 'tuve',\n",
       " 'tuviera',\n",
       " 'tuvierais',\n",
       " 'tuvieran',\n",
       " 'tuvieras',\n",
       " 'tuvieron',\n",
       " 'tuviese',\n",
       " 'tuvieseis',\n",
       " 'tuviesen',\n",
       " 'tuvieses',\n",
       " 'tuvimos',\n",
       " 'tuviste',\n",
       " 'tuvisteis',\n",
       " 'tuviéramos',\n",
       " 'tuviésemos',\n",
       " 'tuvo',\n",
       " 'tuya',\n",
       " 'tuyas',\n",
       " 'tuyo',\n",
       " 'tuyos',\n",
       " 'tú',\n",
       " 'un',\n",
       " 'una',\n",
       " 'uno',\n",
       " 'unos',\n",
       " 'vosostras',\n",
       " 'vosostros',\n",
       " 'vuestra',\n",
       " 'vuestras',\n",
       " 'vuestro',\n",
       " 'vuestros',\n",
       " 'y',\n",
       " 'ya',\n",
       " 'yo',\n",
       " 'él',\n",
       " 'éramos'}"
      ]
     },
     "execution_count": 63,
     "metadata": {},
     "output_type": "execute_result"
    }
   ],
   "source": [
    "stop_words"
   ]
  },
  {
   "cell_type": "markdown",
   "metadata": {},
   "source": [
    "Eliminamos stopwords del texto normalizado:"
   ]
  },
  {
   "cell_type": "code",
   "execution_count": 68,
   "metadata": {},
   "outputs": [
    {
     "name": "stdout",
     "output_type": "stream",
     "text": [
      "Texto original:\n",
      "América, años 40. Don Vito Corleone (Marlon Brando) es el respetado y temido jefe de una de las \n",
      "\n",
      "Texto normalizado:\n",
      "america anos 40 don vito corleone marlon brando respetado temido jefe\n"
     ]
    }
   ],
   "source": [
    "table = str.maketrans('', '', string.punctuation)\n",
    "\n",
    "# Convertimos a minúsculas\n",
    "text_aux = text_test.strip().lower()\n",
    "\n",
    "# Eliminamos acentos\n",
    "text_aux = unicodedata.normalize('NFKD', text_aux).encode('ascii', 'ignore').decode('utf-8', 'ignore')\n",
    "\n",
    "# Eliminamos signos de puntuación\n",
    "text_aux = ' '.join([word.translate(table) for word in text_aux.split()])\n",
    "\n",
    "# Eliminamos stopwords. Es necesario tokenizar el texto en palabras\n",
    "text_aux = [word for word in text_aux.split() if not word in stop_words]\n",
    "\n",
    "# Construimos el string nuevamente desde la lista de términos generados en la línea anterior\n",
    "text_aux = ' '.join(text_aux)\n",
    "\n",
    "print('Texto original:\\n{}'.format(text_test))\n",
    "print('\\nTexto normalizado:\\n{}'.format(text_aux))"
   ]
  },
  {
   "cell_type": "markdown",
   "metadata": {},
   "source": [
    "# Stemming\n",
    "\n"
   ]
  },
  {
   "cell_type": "code",
   "execution_count": null,
   "metadata": {},
   "outputs": [],
   "source": []
  },
  {
   "cell_type": "markdown",
   "metadata": {},
   "source": [
    "# Lemmatization\n",
    "\n",
    "Más complejo que el Stemming. Técnica de normalización de textos que busca reducir las palabras a su raíz (lemma), siendo este lemma siempre una palabra real.\n",
    " \n",
    "Muy utilizado para reducir la cardinalidad del vocabulario asociando para diferentes formas flexionadas un único token ('entreno', 'entrenarás', 'entrenaría' -> 'entrenar')."
   ]
  },
  {
   "cell_type": "code",
   "execution_count": null,
   "metadata": {},
   "outputs": [],
   "source": []
  },
  {
   "cell_type": "code",
   "execution_count": null,
   "metadata": {},
   "outputs": [],
   "source": []
  },
  {
   "cell_type": "code",
   "execution_count": null,
   "metadata": {},
   "outputs": [],
   "source": []
  },
  {
   "cell_type": "code",
   "execution_count": null,
   "metadata": {},
   "outputs": [],
   "source": []
  },
  {
   "cell_type": "code",
   "execution_count": null,
   "metadata": {},
   "outputs": [],
   "source": []
  }
 ],
 "metadata": {
  "kernelspec": {
   "display_name": "mod6_2005",
   "language": "python",
   "name": "mod6_2005"
  },
  "language_info": {
   "codemirror_mode": {
    "name": "ipython",
    "version": 3
   },
   "file_extension": ".py",
   "mimetype": "text/x-python",
   "name": "python",
   "nbconvert_exporter": "python",
   "pygments_lexer": "ipython3",
   "version": "3.7.9"
  }
 },
 "nbformat": 4,
 "nbformat_minor": 2
}
