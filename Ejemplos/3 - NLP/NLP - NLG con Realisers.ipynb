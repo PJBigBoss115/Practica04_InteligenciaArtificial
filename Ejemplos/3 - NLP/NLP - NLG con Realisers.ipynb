{
 "cells": [
  {
   "cell_type": "markdown",
   "metadata": {},
   "source": [
    "<div style=\"font-size: 200%; font-weight: bold; color: maroon; line-height: 32px\">3 - NLP<br/>NLG con Realisers\n",
    "</div>\n",
    "<!-- ThreePoints 2020 - v.1.0 -->"
   ]
  },
  {
   "cell_type": "markdown",
   "metadata": {},
   "source": [
    "[SimpleNLG](https://github.com/simplenlg/simplenlg) es una API montada sobre Java que permite la generación de lenguaje natural. Funciona como motor de [\"realization\"](https://en.wikipedia.org/wiki/Realization_(linguistics)).\n",
    "\n",
    "La versión oficial solo produce textos en inglés, pero versiones en otros idiomas (como en [castellano](https://github.com/citiususc/SimpleNLG-ES)). A continuación se cinluyen algunos ejemplos de realisations utilizando el wrapper para Python [nlglib](https://github.com/roman-kutlak/nlglib/wiki/Intro) de [SimpleNLG-ES](https://github.com/citiususc/SimpleNLG-ES). Los ejemplos incluidos están extraídos de [este tutorial](https://pypi.org/project/nlglib/)."
   ]
  },
  {
   "cell_type": "markdown",
   "metadata": {},
   "source": [
    "# 1. Incialización del servidor"
   ]
  },
  {
   "cell_type": "code",
   "execution_count": 46,
   "metadata": {},
   "outputs": [],
   "source": [
    "from nlglib.realisation.simplenlg.client import SimpleNLGServer"
   ]
  },
  {
   "cell_type": "code",
   "execution_count": 47,
   "metadata": {},
   "outputs": [],
   "source": [
    "port = 4021\n",
    "server = SimpleNLGServer('lib/SimpleNLG-es-1.1.0.jar', port)\n",
    "server.start()"
   ]
  },
  {
   "cell_type": "markdown",
   "metadata": {},
   "source": [
    "Para tumbar el servidor descomentar y ejecutar la celda siguiente."
   ]
  },
  {
   "cell_type": "code",
   "execution_count": 48,
   "metadata": {},
   "outputs": [],
   "source": [
    "# server.shutdown()"
   ]
  },
  {
   "cell_type": "markdown",
   "metadata": {},
   "source": [
    "# 2. Realiser"
   ]
  },
  {
   "cell_type": "markdown",
   "metadata": {},
   "source": [
    "Instanciamos el realiser"
   ]
  },
  {
   "cell_type": "code",
   "execution_count": 49,
   "metadata": {},
   "outputs": [],
   "source": [
    "from nlglib.realisation.simplenlg.realisation import Realiser\n",
    "\n",
    "realiser = Realiser(host='localhost', port=port)"
   ]
  },
  {
   "cell_type": "markdown",
   "metadata": {},
   "source": [
    "Importamos algunas de las estructuras con las que podemos trabajar."
   ]
  },
  {
   "cell_type": "code",
   "execution_count": 42,
   "metadata": {},
   "outputs": [],
   "source": [
    "from nlglib.microplanning import Clause, NP, VP, Adjective, PrepositionPhrase, Coordination, Conjunction"
   ]
  },
  {
   "cell_type": "markdown",
   "metadata": {},
   "source": [
    "Definimos una primera claúsula con tres palabras, sin dar más información (como el tiempo verbal, la categoría gramatical de cada palabra, etc.).\n",
    "\n",
    "Por defecto buscará flexionar el verbo en presente de indicativo."
   ]
  },
  {
   "cell_type": "code",
   "execution_count": 67,
   "metadata": {
    "scrolled": true
   },
   "outputs": [
    {
     "name": "stdout",
     "output_type": "stream",
     "text": [
      "María persigue un mono.\n"
     ]
    }
   ],
   "source": [
    "p = Clause(\"María\", \"perseguir\", \"un mono\")\n",
    "\n",
    "print(realiser(p))"
   ]
  },
  {
   "cell_type": "markdown",
   "metadata": {},
   "source": [
    "Sobre esta misma claúsula, podemos también definir el tiempo verbal."
   ]
  },
  {
   "cell_type": "code",
   "execution_count": 68,
   "metadata": {},
   "outputs": [
    {
     "data": {
      "text/plain": [
       "'María perseguirá un mono.'"
      ]
     },
     "execution_count": 68,
     "metadata": {},
     "output_type": "execute_result"
    }
   ],
   "source": [
    "p['TENSE'] = 'FUTURE'\n",
    "\n",
    "realiser(p)"
   ]
  },
  {
   "cell_type": "markdown",
   "metadata": {},
   "source": [
    "Si es una oración pasiva:"
   ]
  },
  {
   "cell_type": "code",
   "execution_count": 69,
   "metadata": {},
   "outputs": [
    {
     "data": {
      "text/plain": [
       "'Un mono será perseguido por María.'"
      ]
     },
     "execution_count": 69,
     "metadata": {},
     "output_type": "execute_result"
    }
   ],
   "source": [
    "p['PASSIVE'] = 'true'\n",
    "realiser(p)"
   ]
  },
  {
   "cell_type": "markdown",
   "metadata": {},
   "source": [
    "Si es una oración interrogativa cuya respuesta sea de \"sí o no\":"
   ]
  },
  {
   "cell_type": "code",
   "execution_count": 70,
   "metadata": {},
   "outputs": [
    {
     "data": {
      "text/plain": [
       "'¿Será un mono perseguido por María?'"
      ]
     },
     "execution_count": 70,
     "metadata": {},
     "output_type": "execute_result"
    }
   ],
   "source": [
    "p['INTERROGATIVE_TYPE'] = 'YES_NO'\n",
    "realiser(p)"
   ]
  },
  {
   "cell_type": "markdown",
   "metadata": {},
   "source": [
    "O incluso si es una negación:"
   ]
  },
  {
   "cell_type": "code",
   "execution_count": 71,
   "metadata": {},
   "outputs": [
    {
     "data": {
      "text/plain": [
       "'¿No será un mono perseguido por María?'"
      ]
     },
     "execution_count": 71,
     "metadata": {},
     "output_type": "execute_result"
    }
   ],
   "source": [
    "p['NEGATED'] = 'true'\n",
    "realiser(p)"
   ]
  },
  {
   "cell_type": "markdown",
   "metadata": {},
   "source": [
    "Es importante resaltar que los cambios anteriores se producían unos sobre otros.\n",
    "\n",
    "Podemos generar texto construyendo la cláusula por bloques como se muestra a continuación."
   ]
  },
  {
   "cell_type": "code",
   "execution_count": 74,
   "metadata": {},
   "outputs": [
    {
     "name": "stdout",
     "output_type": "stream",
     "text": [
      "La rápida, inteligente corredora atrapa un mono.\n"
     ]
    }
   ],
   "source": [
    "c = Clause()\n",
    "\n",
    "subject = NP(\"la\", \"corredora\")\n",
    "objekt = NP(\"un\", \"mono\")\n",
    "verb = VP(\"atrapar\")\n",
    "\n",
    "subject.premodifiers.append(\"rápida\")\n",
    "subject += Adjective('inteligente')\n",
    "\n",
    "c.subject = subject\n",
    "c.predicate = verb\n",
    "c.object = objekt\n",
    "c['TENSE'] = 'PRESENT'\n",
    "\n",
    "print(realiser(c))"
   ]
  },
  {
   "cell_type": "markdown",
   "metadata": {},
   "source": [
    "También es posible combinar oraciones:"
   ]
  },
  {
   "cell_type": "code",
   "execution_count": 75,
   "metadata": {},
   "outputs": [],
   "source": [
    "p = Clause(\"Pedro\", \"ser\", \"feliz\");\n",
    "q = Clause('el', \"comer\", \"pescado\");"
   ]
  },
  {
   "cell_type": "code",
   "execution_count": 76,
   "metadata": {},
   "outputs": [],
   "source": [
    "q['COMPLEMENTISER'] = \"porque\"\n",
    "q['TENSE'] = 'PAST'\n",
    "\n",
    "p.complements.append(q)"
   ]
  },
  {
   "cell_type": "code",
   "execution_count": 77,
   "metadata": {},
   "outputs": [
    {
     "data": {
      "text/plain": [
       "'Pedro es feliz porque el comió pescado.'"
      ]
     },
     "execution_count": 77,
     "metadata": {},
     "output_type": "execute_result"
    }
   ],
   "source": [
    "realiser(p)"
   ]
  },
  {
   "cell_type": "code",
   "execution_count": null,
   "metadata": {},
   "outputs": [],
   "source": []
  }
 ],
 "metadata": {
  "kernelspec": {
   "display_name": "mod6_2005",
   "language": "python",
   "name": "mod6_2005"
  },
  "language_info": {
   "codemirror_mode": {
    "name": "ipython",
    "version": 3
   },
   "file_extension": ".py",
   "mimetype": "text/x-python",
   "name": "python",
   "nbconvert_exporter": "python",
   "pygments_lexer": "ipython3",
   "version": "3.7.9"
  }
 },
 "nbformat": 4,
 "nbformat_minor": 2
}
